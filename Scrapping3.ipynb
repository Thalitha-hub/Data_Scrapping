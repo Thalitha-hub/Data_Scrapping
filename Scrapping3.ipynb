{
 "cells": [
  {
   "cell_type": "code",
   "execution_count": 1,
   "id": "80fb3b84",
   "metadata": {},
   "outputs": [],
   "source": [
    "from selenium import webdriver\n",
    "from selenium.webdriver.common.keys import Keys\n",
    "from bs4 import BeautifulSoup\n",
    "import time\n",
    "\n",
    "# Path to the Microsoft Edge WebDriver executable\n",
    "# driver_path = \"/path/to/msedgedriver\"\n",
    "# Create a new instance of Microsoft Edge\n",
    "driver = webdriver.Edge()\n",
    "\n",
    "# Visit the dynamic website\n",
    "driver.get(\"https://www.lifeverde.de/gruene-unternehmen/gruene-mobilitaet\")\n",
    "\n",
    "# Scroll down to load more content\n",
    "# Adjust the number of iterations based on the page's structure\n",
    "for _ in range(25):\n",
    "    driver.execute_script(\"window.scrollTo(0, document.body.scrollHeight);\")\n",
    "    time.sleep(5)  # Wait for the content to load, you can adjust the delay if needed\n",
    "\n",
    "# Get the page source code after the website has fully loaded\n",
    "html = driver.page_source\n",
    "\n",
    "# Close the browser\n",
    "driver.quit()\n",
    "\n",
    "# Parse the HTML using BeautifulSoup\n",
    "soup = BeautifulSoup(html, \"html.parser\")\n",
    "\n",
    "# Find all the links with class \"firmenname\"\n",
    "links = []  # List to store the extracted links\n",
    "for link in soup.find_all('a', class_='firmenname'):  # Specify the desired class attribute\n",
    "    href = link.get('href')\n",
    "    links.append(href)\n",
    "# # Print the links\n",
    "# for link in links:\n",
    "#     print(link[\"href\"])"
   ]
  },
  {
   "cell_type": "code",
   "execution_count": 2,
   "id": "55d44f84",
   "metadata": {},
   "outputs": [
    {
     "data": {
      "text/plain": [
       "61"
      ]
     },
     "execution_count": 2,
     "metadata": {},
     "output_type": "execute_result"
    }
   ],
   "source": [
    "len(links)"
   ]
  },
  {
   "cell_type": "code",
   "execution_count": 3,
   "id": "04b17917",
   "metadata": {
    "scrolled": true
   },
   "outputs": [
    {
     "name": "stdout",
     "output_type": "stream",
     "text": [
      "{'Name': 'Mäx & Mäleon                            GmbH', 'Email': 'hello@maeleon.info'}\n",
      "{'Name': 'youforfuture - DEUTIM                            GmbH', 'Email': 'wald@deutim.de'}\n",
      "{'Name': 'HausbootGeist ®                            GbR', 'Email': 'info@hausbootgeist.de'}\n",
      "{'Name': 'WATTSTUNDE                            GmbH', 'Email': 'info@wattstunde.de'}\n",
      "{'Name': 'GOBAX Bikes                            GmbH & Co. KG', 'Email': 'info@gobax-bikes.de'}\n",
      "{'Name': 'Klima Kontor - Planung und Beratung                            GmbH', 'Email': 'info@klima-kontor.de'}\n",
      "{'Name': 'Holztechnik Bernickel Carport & Holzbau                            Einzelunternehmen', 'Email': 'info@holztechnik-bernickel.de'}\n",
      "{'Name': 'Schwalbe - Ralf Bohle GmbH                            GmbH', 'Email': 'info@schwalbe.com'}\n",
      "{'Name': 'LINY                            Einzelunternehmen', 'Email': 'kontakt@liny-bikes.de'}\n",
      "{'Name': 'Ca Go Bike                            GmbH', 'Email': 'info@cagobike.com'}\n",
      "{'Name': 'E Bonus                            GbR', 'Email': 'info@service-e-bonus.de'}\n",
      "{'Name': 'LEGEND EBIKES                            GmbH', 'Email': 'kontakt@legendebikes.com'}\n",
      "{'Name': 'Sole Runner                            Einzelunternehmen', 'Email': 'info@sole-runner.com'}\n",
      "{'Name': 'Geotab                             GmbH', 'Email': 'infode@geotab.com'}\n",
      "{'Name': 'Tout Terrain                            GmbH & Co. KG', 'Email': 'info@tout-terrain.de'}\n",
      "{'Name': 'Sixt                             SE', 'Email': 'kundenbetreuung(at)sixt.com'}\n",
      "{'Name': 'Antonia Berndt & Julia Meinert                            GbR', 'Email': 'info@antoniaberndt.de'}\n",
      "{'Name': 'KLIMA ARENA                             Der Klima-Erlebnisort', 'Email': 'besucherinfo@klima-arena.de'}\n",
      "{'Name': 'ZIMMER Fahrradtaschen                            RAFU + ZIMMER OHG', 'Email': 'mail@zimmer-taschen.de'}\n",
      "{'Name': 'e-motion Experts                            GmbH', 'Email': 'info@emotion-technologies.de'}\n",
      "{'Name': 'pliant                            GmbH', 'Email': 'info@getpliant.com'}\n",
      "{'Name': 'GETAWAY                            GETAWAY GmbH', 'Email': 'info@get-a-way.com'}\n",
      "{'Name': 'BS BERLIN SHUTTLE                            GmbH', 'Email': 'info@berlin-shuttle.de'}\n",
      "{'Name': 'Bundesverband eMobilität e.V. (BEM)                            e.V.', 'Email': 'info@bem-ev.de'}\n",
      "{'Name': 'atmosfair                            gGmbH', 'Email': 'info@atmosfair.de'}\n",
      "{'Name': 'REBEL Marketing                             GmbH', 'Email': 'atzler@e-miglia.com'}\n",
      "{'Name': 'e-bike erfahren                            Gbr (Uniprojekt auf Zeit)', 'Email': 'ebike-erfahren@mail.de'}\n",
      "{'Name': 'ubitricity Gesellschaft für verteilte Energiesysteme mbH                            GmbH', 'Email': 'contact@ubitricity.com'}\n",
      "{'Name': 'Berlin Linien Bus GmbH                            GmbH', 'Email': 'info@berlinlinienbus.de'}\n",
      "{'Name': 'SEG Sonnenrepublik Energie GmbH                            GmbH', 'Email': 'info@sonnenrepublik.de'}\n",
      "{'Name': 'eMobilitätOnline.de                            Einzelunternehmen', 'Email': 'info@emobilitaetonline.de'}\n",
      "{'Name': 'Urwahn Engineering                            GmbH', 'Email': 'info@urwahnbikes.de'}\n",
      "{'Name': 'Transportrad MV                            Einzelunternehmung', 'Email': 'kontakt@transportrad-mv.de'}\n",
      "{'Name': 'WattRad,Anja Wegner                            Einzelfirma', 'Email': 'info@wattrad.com'}\n",
      "{'Name': 'City Express Logistik GmbH                            GmbH', 'Email': 'mail@cityexpress.de'}\n",
      "{'Name': 'Egret                            Walberg Urban Electrics GmbH', 'Email': 'info@my-egret.com'}\n",
      "{'Name': 'e-Formel.de                            Einzelunternehmen', 'Email': 'contact@e-formel.de'}\n",
      "{'Name': 'TRANKVILE electric vehicles                            Einzelunternehmer', 'Email': 'office@trankvile.com'}\n",
      "{'Name': 'scuddy - Faltbare Elektroscooter                            GmbH & Co. KG', 'Email': 'info@scuddy.de'}\n",
      "{'Name': 'my Boo                            GmbH', 'Email': 'contact@my-boo.de'}\n",
      "{'Name': 'cambio Mobilitätsservice                             GmbH & CoKG', 'Email': 'info@cambio-carsharing.de'}\n",
      "{'Name': 'Grüne Autos Magazin (Angebot von TAN Media)                            Einzelunternehmen', 'Email': 'info@grueneautos.com'}\n",
      "{'Name': 'FMS Future Mobility Solutions                             GmbH', 'Email': 'info@future-mobility-solutions.com'}\n",
      "{'Name': 'EcoLibro GmbH                            GmbH', 'Email': 'info@ecolibro.de'}\n",
      "{'Name': 'e-bility                            GmbH', 'Email': 'info@electronic-mobility.com'}\n",
      "{'Name': 'mika amaro Urban Bikes                            -', 'Email': 'info@mika-amaro.com'}\n",
      "{'Name': 'Bundesverband Bioenergie (BBE)                            e. V.', 'Email': 'geisen@bioenergie.de'}\n",
      "{'Name': 'Lastenrad-Fabrik                            Einzelfirma', 'Email': 'info@lastenrad-fabrik.de'}\n",
      "{'Name': 'Carglass                            GmbH', 'Email': 'Empfang@CARGLASS.de'}\n",
      "{'Name': 'Croozer                            GmbH', 'Email': 'info@croozer.com'}\n",
      "{'Name': 'Eco-Consult GmbH                            GmbH', 'Email': 'info@ecofahr.com'}\n",
      "{'Name': 'EIGHT                            GmbH @ Co. KG', 'Email': 'info@eight.eu'}\n",
      "{'Name': 'GOVECS SCOOTER                            AG', 'Email': 'hello@govecs.com'}\n",
      "{'Name': 'FISCHER - die fahrradmarke                            GmbH', 'Email': 'info@fischer-fahrrad.de'}\n",
      "{'Name': 'Stadtwerke Nürtingen                            GmbH', 'Email': 'stadtwerke@sw-nuertingen.de'}\n",
      "{'Name': 'Heindl Server GmbH / eMobilServer                            GmbH', 'Email': 'info@innotech-medien.de'}\n",
      "{'Name': 'StreetScooter Research                            GmbH', 'Email': 'info@streetscooter-research.eu'}\n",
      "{'Name': 'tamyca                            GmbH', 'Email': 'info@tamyca.de'}\n",
      "{'Name': 'Ducktrain                             DroidDrive GmbH', 'Email': 'contact@ducktrain.io'}\n",
      "{'Name': 'Babboe                            BV', 'Email': 'info@babboe.de'}\n",
      "{'Name': 'BlaBlaCar                            S.A.', 'Email': 'info@blablacar.de'}\n"
     ]
    }
   ],
   "source": [
    "company_data = []\n",
    "for link in links:\n",
    "    driver = webdriver.Edge()\n",
    "\n",
    "    # Visit the website\n",
    "    driver.get(link)\n",
    "\n",
    "    # Get the page source code after the website has fully loaded\n",
    "    html = driver.page_source\n",
    "\n",
    "    # Close the browser\n",
    "    driver.quit()\n",
    "\n",
    "    # Parse the HTML using BeautifulSoup\n",
    "    soup = BeautifulSoup(html, \"html.parser\")\n",
    "\n",
    "    # Find the name and email within the div with class \"adressbox\"\n",
    "    adressbox_div = soup.find(\"div\", class_=\"adressbox\")\n",
    "\n",
    "    # Find the name within the adressbox div\n",
    "    name_element = adressbox_div.find(\"strong\")\n",
    "    name = name_element.text.strip() if name_element else \"Name not found\"\n",
    "\n",
    "    # Find the email within the adressbox div\n",
    "    email_element = adressbox_div.find(\"a\")\n",
    "    email = email_element.text.strip() if email_element else \"Email not found\"\n",
    "    \n",
    "    data = {}\n",
    "    data['Name'] = name\n",
    "    data['Email'] = email\n",
    "    company_data.append(data)\n",
    "\n",
    "    print(data)\n",
    "\n",
    " "
   ]
  },
  {
   "cell_type": "code",
   "execution_count": 4,
   "id": "3e5469be",
   "metadata": {},
   "outputs": [
    {
     "data": {
      "text/plain": [
       "61"
      ]
     },
     "execution_count": 4,
     "metadata": {},
     "output_type": "execute_result"
    }
   ],
   "source": [
    "len(company_data)"
   ]
  },
  {
   "cell_type": "code",
   "execution_count": 5,
   "id": "46c87b4b",
   "metadata": {},
   "outputs": [],
   "source": [
    "import pandas as pd\n",
    "data = pd.DataFrame(company_data)"
   ]
  },
  {
   "cell_type": "code",
   "execution_count": 6,
   "id": "a81efeb2",
   "metadata": {},
   "outputs": [
    {
     "data": {
      "text/html": [
       "<div>\n",
       "<style scoped>\n",
       "    .dataframe tbody tr th:only-of-type {\n",
       "        vertical-align: middle;\n",
       "    }\n",
       "\n",
       "    .dataframe tbody tr th {\n",
       "        vertical-align: top;\n",
       "    }\n",
       "\n",
       "    .dataframe thead th {\n",
       "        text-align: right;\n",
       "    }\n",
       "</style>\n",
       "<table border=\"1\" class=\"dataframe\">\n",
       "  <thead>\n",
       "    <tr style=\"text-align: right;\">\n",
       "      <th></th>\n",
       "      <th>Name</th>\n",
       "      <th>Email</th>\n",
       "    </tr>\n",
       "  </thead>\n",
       "  <tbody>\n",
       "    <tr>\n",
       "      <th>0</th>\n",
       "      <td>Mäx &amp; Mäleon                            GmbH</td>\n",
       "      <td>hello@maeleon.info</td>\n",
       "    </tr>\n",
       "    <tr>\n",
       "      <th>1</th>\n",
       "      <td>youforfuture - DEUTIM                         ...</td>\n",
       "      <td>wald@deutim.de</td>\n",
       "    </tr>\n",
       "    <tr>\n",
       "      <th>2</th>\n",
       "      <td>HausbootGeist ®                            GbR</td>\n",
       "      <td>info@hausbootgeist.de</td>\n",
       "    </tr>\n",
       "    <tr>\n",
       "      <th>3</th>\n",
       "      <td>WATTSTUNDE                            GmbH</td>\n",
       "      <td>info@wattstunde.de</td>\n",
       "    </tr>\n",
       "    <tr>\n",
       "      <th>4</th>\n",
       "      <td>GOBAX Bikes                            GmbH &amp; ...</td>\n",
       "      <td>info@gobax-bikes.de</td>\n",
       "    </tr>\n",
       "    <tr>\n",
       "      <th>...</th>\n",
       "      <td>...</td>\n",
       "      <td>...</td>\n",
       "    </tr>\n",
       "    <tr>\n",
       "      <th>56</th>\n",
       "      <td>StreetScooter Research                        ...</td>\n",
       "      <td>info@streetscooter-research.eu</td>\n",
       "    </tr>\n",
       "    <tr>\n",
       "      <th>57</th>\n",
       "      <td>tamyca                            GmbH</td>\n",
       "      <td>info@tamyca.de</td>\n",
       "    </tr>\n",
       "    <tr>\n",
       "      <th>58</th>\n",
       "      <td>Ducktrain                             DroidDri...</td>\n",
       "      <td>contact@ducktrain.io</td>\n",
       "    </tr>\n",
       "    <tr>\n",
       "      <th>59</th>\n",
       "      <td>Babboe                            BV</td>\n",
       "      <td>info@babboe.de</td>\n",
       "    </tr>\n",
       "    <tr>\n",
       "      <th>60</th>\n",
       "      <td>BlaBlaCar                            S.A.</td>\n",
       "      <td>info@blablacar.de</td>\n",
       "    </tr>\n",
       "  </tbody>\n",
       "</table>\n",
       "<p>61 rows × 2 columns</p>\n",
       "</div>"
      ],
      "text/plain": [
       "                                                 Name  \\\n",
       "0        Mäx & Mäleon                            GmbH   \n",
       "1   youforfuture - DEUTIM                         ...   \n",
       "2      HausbootGeist ®                            GbR   \n",
       "3          WATTSTUNDE                            GmbH   \n",
       "4   GOBAX Bikes                            GmbH & ...   \n",
       "..                                                ...   \n",
       "56  StreetScooter Research                        ...   \n",
       "57             tamyca                            GmbH   \n",
       "58  Ducktrain                             DroidDri...   \n",
       "59               Babboe                            BV   \n",
       "60          BlaBlaCar                            S.A.   \n",
       "\n",
       "                             Email  \n",
       "0               hello@maeleon.info  \n",
       "1                   wald@deutim.de  \n",
       "2            info@hausbootgeist.de  \n",
       "3               info@wattstunde.de  \n",
       "4              info@gobax-bikes.de  \n",
       "..                             ...  \n",
       "56  info@streetscooter-research.eu  \n",
       "57                  info@tamyca.de  \n",
       "58            contact@ducktrain.io  \n",
       "59                  info@babboe.de  \n",
       "60               info@blablacar.de  \n",
       "\n",
       "[61 rows x 2 columns]"
      ]
     },
     "execution_count": 6,
     "metadata": {},
     "output_type": "execute_result"
    }
   ],
   "source": [
    "data"
   ]
  },
  {
   "cell_type": "code",
   "execution_count": 8,
   "id": "f3d0d5e2",
   "metadata": {},
   "outputs": [],
   "source": [
    "data.to_csv('Company1.csv')"
   ]
  },
  {
   "cell_type": "code",
   "execution_count": null,
   "id": "1a1f508d",
   "metadata": {},
   "outputs": [],
   "source": []
  },
  {
   "cell_type": "code",
   "execution_count": null,
   "id": "c7404c85",
   "metadata": {},
   "outputs": [],
   "source": []
  }
 ],
 "metadata": {
  "kernelspec": {
   "display_name": "Python 3 (ipykernel)",
   "language": "python",
   "name": "python3"
  },
  "language_info": {
   "codemirror_mode": {
    "name": "ipython",
    "version": 3
   },
   "file_extension": ".py",
   "mimetype": "text/x-python",
   "name": "python",
   "nbconvert_exporter": "python",
   "pygments_lexer": "ipython3",
   "version": "3.9.16"
  }
 },
 "nbformat": 4,
 "nbformat_minor": 5
}
