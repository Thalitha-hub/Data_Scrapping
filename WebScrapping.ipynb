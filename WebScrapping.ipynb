{
 "cells": [
  {
   "cell_type": "code",
   "execution_count": 1,
   "id": "eee00a86",
   "metadata": {},
   "outputs": [],
   "source": [
    "from bs4 import BeautifulSoup\n",
    "import requests\n",
    "import pandas as pd"
   ]
  },
  {
   "cell_type": "code",
   "execution_count": 2,
   "id": "f9e63f62",
   "metadata": {},
   "outputs": [
    {
     "name": "stdout",
     "output_type": "stream",
     "text": [
      "<Response [200]>\n"
     ]
    }
   ],
   "source": [
    "url = 'https://www.lifeverde.de/gruene-unternehmen/nachhaltige-ernaehrung-u-gesundheit'\n",
    "req = requests.get(url)\n",
    "print(req)"
   ]
  },
  {
   "cell_type": "code",
   "execution_count": 4,
   "id": "3868c9d9",
   "metadata": {},
   "outputs": [],
   "source": [
    "html_content = req.content"
   ]
  },
  {
   "cell_type": "code",
   "execution_count": 14,
   "id": "6b020a4b",
   "metadata": {},
   "outputs": [],
   "source": [
    "soup = BeautifulSoup(req.content, \"html.parser\")\n",
    "# print(soup) #To verify output (VERY LONG)"
   ]
  },
  {
   "cell_type": "code",
   "execution_count": 21,
   "id": "f7c5efe9",
   "metadata": {},
   "outputs": [],
   "source": [
    "x=soup.find_all('div', class_='beschreibungsbox')"
   ]
  },
  {
   "cell_type": "code",
   "execution_count": 22,
   "id": "ba76c2c0",
   "metadata": {},
   "outputs": [
    {
     "data": {
      "text/plain": [
       "[]"
      ]
     },
     "execution_count": 22,
     "metadata": {},
     "output_type": "execute_result"
    }
   ],
   "source": [
    "x"
   ]
  },
  {
   "cell_type": "code",
   "execution_count": 17,
   "id": "70ff8e2b",
   "metadata": {},
   "outputs": [],
   "source": [
    "links = []  # List to store the extracted links\n",
    "for link in soup.find_all('a', class_='firmenname'):  # Specify the desired class attribute\n",
    "    href = link.get('href')\n",
    "    links.append(href)"
   ]
  },
  {
   "cell_type": "code",
   "execution_count": 6,
   "id": "f1bf8a35",
   "metadata": {},
   "outputs": [],
   "source": [
    "df = pd.DataFrame(links, columns=[\"Links\"])\n",
    "df.to_csv(\"links.csv\", index=False)\n"
   ]
  }
 ],
 "metadata": {
  "kernelspec": {
   "display_name": "Python 3 (ipykernel)",
   "language": "python",
   "name": "python3"
  },
  "language_info": {
   "codemirror_mode": {
    "name": "ipython",
    "version": 3
   },
   "file_extension": ".py",
   "mimetype": "text/x-python",
   "name": "python",
   "nbconvert_exporter": "python",
   "pygments_lexer": "ipython3",
   "version": "3.9.16"
  }
 },
 "nbformat": 4,
 "nbformat_minor": 5
}
